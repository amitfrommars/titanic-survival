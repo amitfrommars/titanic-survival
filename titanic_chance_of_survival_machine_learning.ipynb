{
  "cells": [
    {
      "cell_type": "code",
      "execution_count": null,
      "id": "e6801066",
      "metadata": {
        "_cell_guid": "b1076dfc-b9ad-4769-8c92-a6c4dae69d19",
        "_uuid": "8f2839f25d086af736a60e9eeb907d3b93b6e0e5",
        "execution": {
          "iopub.execute_input": "2021-08-03T12:40:35.730506Z",
          "iopub.status.busy": "2021-08-03T12:40:35.729362Z",
          "iopub.status.idle": "2021-08-03T12:40:35.744181Z",
          "shell.execute_reply": "2021-08-03T12:40:35.744779Z",
          "shell.execute_reply.started": "2021-08-03T12:39:58.074930Z"
        },
        "papermill": {
          "duration": 0.027553,
          "end_time": "2021-08-03T12:40:35.745084",
          "exception": false,
          "start_time": "2021-08-03T12:40:35.717531",
          "status": "completed"
        },
        "tags": [],
        "id": "e6801066",
        "outputId": "790331b5-f074-402a-9fcf-c1dbba29ab9a"
      },
      "outputs": [
        {
          "name": "stdout",
          "output_type": "stream",
          "text": [
            "/kaggle/input/titanic/train.csv\n",
            "/kaggle/input/titanic/test.csv\n",
            "/kaggle/input/titanic/gender_submission.csv\n"
          ]
        }
      ],
      "source": [
        "import numpy as np # linear algebra\n",
        "import pandas as pd # data processing, CSV file I/O (e.g. pd.read_csv)\n",
        "\n",
        "import os\n",
        "for dirname, _, filenames in os.walk('/kaggle/input'):\n",
        "    for filename in filenames:\n",
        "        print(os.path.join(dirname, filename))"
      ]
    },
    {
      "cell_type": "code",
      "execution_count": null,
      "id": "b7cc0891",
      "metadata": {
        "execution": {
          "iopub.execute_input": "2021-08-03T12:40:35.767053Z",
          "iopub.status.busy": "2021-08-03T12:40:35.766166Z",
          "iopub.status.idle": "2021-08-03T12:40:35.897610Z",
          "shell.execute_reply": "2021-08-03T12:40:35.896909Z",
          "shell.execute_reply.started": "2021-08-03T12:39:58.089700Z"
        },
        "papermill": {
          "duration": 0.143362,
          "end_time": "2021-08-03T12:40:35.897751",
          "exception": false,
          "start_time": "2021-08-03T12:40:35.754389",
          "status": "completed"
        },
        "tags": [],
        "id": "b7cc0891",
        "outputId": "12e1ce12-30c1-45d3-abc4-fda70a16e4c8"
      },
      "outputs": [
        {
          "data": {
            "text/html": [
              "<div>\n",
              "<style scoped>\n",
              "    .dataframe tbody tr th:only-of-type {\n",
              "        vertical-align: middle;\n",
              "    }\n",
              "\n",
              "    .dataframe tbody tr th {\n",
              "        vertical-align: top;\n",
              "    }\n",
              "\n",
              "    .dataframe thead th {\n",
              "        text-align: right;\n",
              "    }\n",
              "</style>\n",
              "<table border=\"1\" class=\"dataframe\">\n",
              "  <thead>\n",
              "    <tr style=\"text-align: right;\">\n",
              "      <th></th>\n",
              "      <th>PassengerId</th>\n",
              "      <th>Survived</th>\n",
              "      <th>Pclass</th>\n",
              "      <th>Name</th>\n",
              "      <th>Sex</th>\n",
              "      <th>Age</th>\n",
              "      <th>SibSp</th>\n",
              "      <th>Parch</th>\n",
              "      <th>Ticket</th>\n",
              "      <th>Fare</th>\n",
              "      <th>Cabin</th>\n",
              "      <th>Embarked</th>\n",
              "    </tr>\n",
              "  </thead>\n",
              "  <tbody>\n",
              "    <tr>\n",
              "      <th>0</th>\n",
              "      <td>1</td>\n",
              "      <td>0</td>\n",
              "      <td>3</td>\n",
              "      <td>Braund, Mr. Owen Harris</td>\n",
              "      <td>male</td>\n",
              "      <td>22.0</td>\n",
              "      <td>1</td>\n",
              "      <td>0</td>\n",
              "      <td>A/5 21171</td>\n",
              "      <td>7.2500</td>\n",
              "      <td>NaN</td>\n",
              "      <td>S</td>\n",
              "    </tr>\n",
              "    <tr>\n",
              "      <th>1</th>\n",
              "      <td>2</td>\n",
              "      <td>1</td>\n",
              "      <td>1</td>\n",
              "      <td>Cumings, Mrs. John Bradley (Florence Briggs Th...</td>\n",
              "      <td>female</td>\n",
              "      <td>38.0</td>\n",
              "      <td>1</td>\n",
              "      <td>0</td>\n",
              "      <td>PC 17599</td>\n",
              "      <td>71.2833</td>\n",
              "      <td>C85</td>\n",
              "      <td>C</td>\n",
              "    </tr>\n",
              "    <tr>\n",
              "      <th>2</th>\n",
              "      <td>3</td>\n",
              "      <td>1</td>\n",
              "      <td>3</td>\n",
              "      <td>Heikkinen, Miss. Laina</td>\n",
              "      <td>female</td>\n",
              "      <td>26.0</td>\n",
              "      <td>0</td>\n",
              "      <td>0</td>\n",
              "      <td>STON/O2. 3101282</td>\n",
              "      <td>7.9250</td>\n",
              "      <td>NaN</td>\n",
              "      <td>S</td>\n",
              "    </tr>\n",
              "    <tr>\n",
              "      <th>3</th>\n",
              "      <td>4</td>\n",
              "      <td>1</td>\n",
              "      <td>1</td>\n",
              "      <td>Futrelle, Mrs. Jacques Heath (Lily May Peel)</td>\n",
              "      <td>female</td>\n",
              "      <td>35.0</td>\n",
              "      <td>1</td>\n",
              "      <td>0</td>\n",
              "      <td>113803</td>\n",
              "      <td>53.1000</td>\n",
              "      <td>C123</td>\n",
              "      <td>S</td>\n",
              "    </tr>\n",
              "    <tr>\n",
              "      <th>4</th>\n",
              "      <td>5</td>\n",
              "      <td>0</td>\n",
              "      <td>3</td>\n",
              "      <td>Allen, Mr. William Henry</td>\n",
              "      <td>male</td>\n",
              "      <td>35.0</td>\n",
              "      <td>0</td>\n",
              "      <td>0</td>\n",
              "      <td>373450</td>\n",
              "      <td>8.0500</td>\n",
              "      <td>NaN</td>\n",
              "      <td>S</td>\n",
              "    </tr>\n",
              "  </tbody>\n",
              "</table>\n",
              "</div>"
            ],
            "text/plain": [
              "   PassengerId  Survived  Pclass  \\\n",
              "0            1         0       3   \n",
              "1            2         1       1   \n",
              "2            3         1       3   \n",
              "3            4         1       1   \n",
              "4            5         0       3   \n",
              "\n",
              "                                                Name     Sex   Age  SibSp  \\\n",
              "0                            Braund, Mr. Owen Harris    male  22.0      1   \n",
              "1  Cumings, Mrs. John Bradley (Florence Briggs Th...  female  38.0      1   \n",
              "2                             Heikkinen, Miss. Laina  female  26.0      0   \n",
              "3       Futrelle, Mrs. Jacques Heath (Lily May Peel)  female  35.0      1   \n",
              "4                           Allen, Mr. William Henry    male  35.0      0   \n",
              "\n",
              "   Parch            Ticket     Fare Cabin Embarked  \n",
              "0      0         A/5 21171   7.2500   NaN        S  \n",
              "1      0          PC 17599  71.2833   C85        C  \n",
              "2      0  STON/O2. 3101282   7.9250   NaN        S  \n",
              "3      0            113803  53.1000  C123        S  \n",
              "4      0            373450   8.0500   NaN        S  "
            ]
          },
          "execution_count": 2,
          "metadata": {},
          "output_type": "execute_result"
        }
      ],
      "source": [
        "train_data = pd.read_csv(\"/kaggle/input/titanic/train.csv\")\n",
        "train_data.head()"
      ]
    },
    {
      "cell_type": "code",
      "execution_count": null,
      "id": "4dc366a5",
      "metadata": {
        "execution": {
          "iopub.execute_input": "2021-08-03T12:40:35.918397Z",
          "iopub.status.busy": "2021-08-03T12:40:35.917697Z",
          "iopub.status.idle": "2021-08-03T12:40:35.943226Z",
          "shell.execute_reply": "2021-08-03T12:40:35.942623Z",
          "shell.execute_reply.started": "2021-08-03T12:39:58.123898Z"
        },
        "papermill": {
          "duration": 0.037798,
          "end_time": "2021-08-03T12:40:35.943426",
          "exception": false,
          "start_time": "2021-08-03T12:40:35.905628",
          "status": "completed"
        },
        "tags": [],
        "id": "4dc366a5",
        "outputId": "e6d89e15-5dd1-47c3-e1b2-76b4868ec3e7"
      },
      "outputs": [
        {
          "data": {
            "text/html": [
              "<div>\n",
              "<style scoped>\n",
              "    .dataframe tbody tr th:only-of-type {\n",
              "        vertical-align: middle;\n",
              "    }\n",
              "\n",
              "    .dataframe tbody tr th {\n",
              "        vertical-align: top;\n",
              "    }\n",
              "\n",
              "    .dataframe thead th {\n",
              "        text-align: right;\n",
              "    }\n",
              "</style>\n",
              "<table border=\"1\" class=\"dataframe\">\n",
              "  <thead>\n",
              "    <tr style=\"text-align: right;\">\n",
              "      <th></th>\n",
              "      <th>PassengerId</th>\n",
              "      <th>Pclass</th>\n",
              "      <th>Name</th>\n",
              "      <th>Sex</th>\n",
              "      <th>Age</th>\n",
              "      <th>SibSp</th>\n",
              "      <th>Parch</th>\n",
              "      <th>Ticket</th>\n",
              "      <th>Fare</th>\n",
              "      <th>Cabin</th>\n",
              "      <th>Embarked</th>\n",
              "    </tr>\n",
              "  </thead>\n",
              "  <tbody>\n",
              "    <tr>\n",
              "      <th>0</th>\n",
              "      <td>892</td>\n",
              "      <td>3</td>\n",
              "      <td>Kelly, Mr. James</td>\n",
              "      <td>male</td>\n",
              "      <td>34.5</td>\n",
              "      <td>0</td>\n",
              "      <td>0</td>\n",
              "      <td>330911</td>\n",
              "      <td>7.8292</td>\n",
              "      <td>NaN</td>\n",
              "      <td>Q</td>\n",
              "    </tr>\n",
              "    <tr>\n",
              "      <th>1</th>\n",
              "      <td>893</td>\n",
              "      <td>3</td>\n",
              "      <td>Wilkes, Mrs. James (Ellen Needs)</td>\n",
              "      <td>female</td>\n",
              "      <td>47.0</td>\n",
              "      <td>1</td>\n",
              "      <td>0</td>\n",
              "      <td>363272</td>\n",
              "      <td>7.0000</td>\n",
              "      <td>NaN</td>\n",
              "      <td>S</td>\n",
              "    </tr>\n",
              "    <tr>\n",
              "      <th>2</th>\n",
              "      <td>894</td>\n",
              "      <td>2</td>\n",
              "      <td>Myles, Mr. Thomas Francis</td>\n",
              "      <td>male</td>\n",
              "      <td>62.0</td>\n",
              "      <td>0</td>\n",
              "      <td>0</td>\n",
              "      <td>240276</td>\n",
              "      <td>9.6875</td>\n",
              "      <td>NaN</td>\n",
              "      <td>Q</td>\n",
              "    </tr>\n",
              "    <tr>\n",
              "      <th>3</th>\n",
              "      <td>895</td>\n",
              "      <td>3</td>\n",
              "      <td>Wirz, Mr. Albert</td>\n",
              "      <td>male</td>\n",
              "      <td>27.0</td>\n",
              "      <td>0</td>\n",
              "      <td>0</td>\n",
              "      <td>315154</td>\n",
              "      <td>8.6625</td>\n",
              "      <td>NaN</td>\n",
              "      <td>S</td>\n",
              "    </tr>\n",
              "    <tr>\n",
              "      <th>4</th>\n",
              "      <td>896</td>\n",
              "      <td>3</td>\n",
              "      <td>Hirvonen, Mrs. Alexander (Helga E Lindqvist)</td>\n",
              "      <td>female</td>\n",
              "      <td>22.0</td>\n",
              "      <td>1</td>\n",
              "      <td>1</td>\n",
              "      <td>3101298</td>\n",
              "      <td>12.2875</td>\n",
              "      <td>NaN</td>\n",
              "      <td>S</td>\n",
              "    </tr>\n",
              "  </tbody>\n",
              "</table>\n",
              "</div>"
            ],
            "text/plain": [
              "   PassengerId  Pclass                                          Name     Sex  \\\n",
              "0          892       3                              Kelly, Mr. James    male   \n",
              "1          893       3              Wilkes, Mrs. James (Ellen Needs)  female   \n",
              "2          894       2                     Myles, Mr. Thomas Francis    male   \n",
              "3          895       3                              Wirz, Mr. Albert    male   \n",
              "4          896       3  Hirvonen, Mrs. Alexander (Helga E Lindqvist)  female   \n",
              "\n",
              "    Age  SibSp  Parch   Ticket     Fare Cabin Embarked  \n",
              "0  34.5      0      0   330911   7.8292   NaN        Q  \n",
              "1  47.0      1      0   363272   7.0000   NaN        S  \n",
              "2  62.0      0      0   240276   9.6875   NaN        Q  \n",
              "3  27.0      0      0   315154   8.6625   NaN        S  \n",
              "4  22.0      1      1  3101298  12.2875   NaN        S  "
            ]
          },
          "execution_count": 3,
          "metadata": {},
          "output_type": "execute_result"
        }
      ],
      "source": [
        "test_data = pd.read_csv(\"/kaggle/input/titanic/test.csv\")\n",
        "test_data.head()"
      ]
    },
    {
      "cell_type": "code",
      "execution_count": null,
      "id": "c08e450c",
      "metadata": {
        "execution": {
          "iopub.execute_input": "2021-08-03T12:40:35.971184Z",
          "iopub.status.busy": "2021-08-03T12:40:35.970373Z",
          "iopub.status.idle": "2021-08-03T12:40:35.974450Z",
          "shell.execute_reply": "2021-08-03T12:40:35.973936Z",
          "shell.execute_reply.started": "2021-08-03T12:39:58.151384Z"
        },
        "papermill": {
          "duration": 0.0225,
          "end_time": "2021-08-03T12:40:35.974593",
          "exception": false,
          "start_time": "2021-08-03T12:40:35.952093",
          "status": "completed"
        },
        "tags": [],
        "id": "c08e450c",
        "outputId": "b04d47ec-571a-4e1b-e5fe-e04208500824"
      },
      "outputs": [
        {
          "name": "stdout",
          "output_type": "stream",
          "text": [
            "% of women who survived: 0.7420382165605095\n"
          ]
        }
      ],
      "source": [
        "women = train_data.loc[train_data.Sex == 'female'][\"Survived\"]\n",
        "rate_women = sum(women)/len(women)\n",
        "\n",
        "print(\"% of women who survived:\", rate_women)"
      ]
    },
    {
      "cell_type": "code",
      "execution_count": null,
      "id": "12a0e190",
      "metadata": {
        "execution": {
          "iopub.execute_input": "2021-08-03T12:40:35.999269Z",
          "iopub.status.busy": "2021-08-03T12:40:35.998571Z",
          "iopub.status.idle": "2021-08-03T12:40:36.002739Z",
          "shell.execute_reply": "2021-08-03T12:40:36.002228Z",
          "shell.execute_reply.started": "2021-08-03T12:39:58.161297Z"
        },
        "papermill": {
          "duration": 0.019544,
          "end_time": "2021-08-03T12:40:36.002881",
          "exception": false,
          "start_time": "2021-08-03T12:40:35.983337",
          "status": "completed"
        },
        "tags": [],
        "id": "12a0e190",
        "outputId": "e5d740ca-0414-4763-cc15-439ae3255cc5"
      },
      "outputs": [
        {
          "name": "stdout",
          "output_type": "stream",
          "text": [
            "% of men who survived: 0.18890814558058924\n"
          ]
        }
      ],
      "source": [
        "men = train_data.loc[train_data.Sex == 'male'][\"Survived\"]\n",
        "rate_men = sum(men)/len(men)\n",
        "\n",
        "print(\"% of men who survived:\", rate_men)"
      ]
    },
    {
      "cell_type": "code",
      "execution_count": null,
      "id": "d432e3b7",
      "metadata": {
        "execution": {
          "iopub.execute_input": "2021-08-03T12:40:36.029109Z",
          "iopub.status.busy": "2021-08-03T12:40:36.028289Z",
          "iopub.status.idle": "2021-08-03T12:40:37.452356Z",
          "shell.execute_reply": "2021-08-03T12:40:37.451017Z",
          "shell.execute_reply.started": "2021-08-03T12:39:58.176610Z"
        },
        "papermill": {
          "duration": 1.440042,
          "end_time": "2021-08-03T12:40:37.452589",
          "exception": false,
          "start_time": "2021-08-03T12:40:36.012547",
          "status": "completed"
        },
        "tags": [],
        "id": "d432e3b7",
        "outputId": "2241d8d5-4260-4fb9-8659-eba375ccd58e"
      },
      "outputs": [
        {
          "name": "stdout",
          "output_type": "stream",
          "text": [
            "Your submission was successfully saved!\n"
          ]
        }
      ],
      "source": [
        "from sklearn.ensemble import RandomForestClassifier\n",
        "\n",
        "y = train_data[\"Survived\"]\n",
        "\n",
        "features = [\"Pclass\", \"Sex\", \"SibSp\", \"Parch\"]\n",
        "X = pd.get_dummies(train_data[features])\n",
        "X_test = pd.get_dummies(test_data[features])\n",
        "\n",
        "model = RandomForestClassifier(n_estimators=100, max_depth=5, random_state=1)\n",
        "model.fit(X, y)\n",
        "predictions = model.predict(X_test)\n",
        "\n",
        "output = pd.DataFrame({'PassengerId': test_data.PassengerId, 'Survived': predictions})\n",
        "output.to_csv('my_submission.csv', index=False)\n",
        "print(\"Your submission was successfully saved!\")"
      ]
    },
    {
      "cell_type": "code",
      "execution_count": null,
      "id": "186d46ff",
      "metadata": {
        "papermill": {
          "duration": 0.009166,
          "end_time": "2021-08-03T12:40:37.471703",
          "exception": false,
          "start_time": "2021-08-03T12:40:37.462537",
          "status": "completed"
        },
        "tags": [],
        "id": "186d46ff"
      },
      "outputs": [],
      "source": []
    }
  ],
  "metadata": {
    "kernelspec": {
      "display_name": "Python 3",
      "language": "python",
      "name": "python3"
    },
    "language_info": {
      "codemirror_mode": {
        "name": "ipython",
        "version": 3
      },
      "file_extension": ".py",
      "mimetype": "text/x-python",
      "name": "python",
      "nbconvert_exporter": "python",
      "pygments_lexer": "ipython3",
      "version": "3.7.10"
    },
    "papermill": {
      "default_parameters": {},
      "duration": 10.747624,
      "end_time": "2021-08-03T12:40:38.191061",
      "environment_variables": {},
      "exception": null,
      "input_path": "__notebook__.ipynb",
      "output_path": "__notebook__.ipynb",
      "parameters": {},
      "start_time": "2021-08-03T12:40:27.443437",
      "version": "2.3.3"
    },
    "colab": {
      "provenance": []
    }
  },
  "nbformat": 4,
  "nbformat_minor": 5
}